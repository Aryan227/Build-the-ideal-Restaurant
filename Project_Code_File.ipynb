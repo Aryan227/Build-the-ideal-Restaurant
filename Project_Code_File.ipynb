{
 "cells": [
  {
   "cell_type": "code",
   "execution_count": 3,
   "id": "6d1208c0",
   "metadata": {},
   "outputs": [],
   "source": [
    "import pandas as pd\n",
    "import numpy as np\n",
    "import matplotlib.pyplot as plt\n",
    "import seaborn as sns\n",
    "\n",
    "import datetime\n",
    "import warnings\n",
    "\n",
    "%matplotlib inline"
   ]
  },
  {
   "cell_type": "code",
   "execution_count": 5,
   "id": "4cbe0074",
   "metadata": {},
   "outputs": [],
   "source": [
    "rest_data = pd.read_csv(\"C:/Users/aryan/OneDrive/Desktop/NYU DSGA3001/zomato.csv\")"
   ]
  },
  {
   "cell_type": "code",
   "execution_count": 8,
   "id": "a9735f52",
   "metadata": {},
   "outputs": [],
   "source": [
    "rest_data = rest_data.drop_duplicates('url')"
   ]
  },
  {
   "cell_type": "code",
   "execution_count": 9,
   "id": "127a39f8",
   "metadata": {},
   "outputs": [],
   "source": [
    "rest_data.drop('menu_item',axis=1,inplace=True)"
   ]
  },
  {
   "cell_type": "code",
   "execution_count": 11,
   "id": "431717b2",
   "metadata": {},
   "outputs": [
    {
     "data": {
      "text/plain": [
       "0"
      ]
     },
     "execution_count": 11,
     "metadata": {},
     "output_type": "execute_result"
    }
   ],
   "source": [
    "#21 null values in location column \n",
    "rest_data['location'].isna().sum()\n",
    "\n",
    "#227 null in rest_type\n",
    "rest_data['rest_type'].isna().sum()\n",
    "\n",
    "#20252 null in dish_liked, 28078 null values in dish_liked column without removing any others\n",
    "rest_data['dish_liked'].isna().sum()\n",
    "\n",
    "#11 null in dish_liked, 45 null values in dish_liked column without removing any others\n",
    "rest_data['cuisines'].isna().sum()\n",
    "\n",
    "#11 null, 45 null values in column without removing any others\n",
    "rest_data['cuisines'].isna().sum()\n",
    "\n",
    "#247 null, 346 null values column without removing any others\n",
    "rest_data['approx_cost(for two people)'].isna().sum()\n",
    "\n",
    "#0 null, 0 null values column without removing any others\n",
    "rest_data['reviews_list'].isna().sum()\n",
    "\n",
    "#'menu_item' dropped in dataset\n",
    "\n",
    "#0 null, 0 null values column without removing any others\n",
    "rest_data['listed_in(type)'].isna().sum()"
   ]
  },
  {
   "cell_type": "code",
   "execution_count": 10,
   "id": "19ae267c",
   "metadata": {},
   "outputs": [],
   "source": [
    "rest_data.dropna(subset=['rate','location','rest_type','cuisines','approx_cost(for two people)'],inplace=True)"
   ]
  },
  {
   "cell_type": "code",
   "execution_count": null,
   "id": "ad907942",
   "metadata": {},
   "outputs": [],
   "source": [
    "#Data cleaning: \n",
    "#Change pricing and any other numerical columns to integers\n",
    "#Change rate to single number (not x/5)"
   ]
  },
  {
   "cell_type": "code",
   "execution_count": 12,
   "id": "d31d4bbc",
   "metadata": {},
   "outputs": [],
   "source": [
    "#Remove commas from the numbers in the approx_cost\n",
    "rest_data['approx_cost(for two people)'] = rest_data['approx_cost(for two people)'].str.replace(',', '')"
   ]
  },
  {
   "cell_type": "code",
   "execution_count": 13,
   "id": "57d01592",
   "metadata": {},
   "outputs": [],
   "source": [
    "rest_data['approx_cost(for two people)'] = rest_data['approx_cost(for two people)'].astype('Int64')"
   ]
  },
  {
   "cell_type": "code",
   "execution_count": 14,
   "id": "bf465334",
   "metadata": {},
   "outputs": [
    {
     "data": {
      "text/plain": [
       "count       43533.0\n",
       "mean     594.850252\n",
       "std      459.354032\n",
       "min            40.0\n",
       "25%           300.0\n",
       "50%           450.0\n",
       "75%           700.0\n",
       "max          6000.0\n",
       "Name: approx_cost(for two people), dtype: Float64"
      ]
     },
     "execution_count": 14,
     "metadata": {},
     "output_type": "execute_result"
    }
   ],
   "source": [
    "rest_data['approx_cost(for two people)'].describe()"
   ]
  },
  {
   "cell_type": "code",
   "execution_count": 15,
   "id": "aef6af85",
   "metadata": {},
   "outputs": [
    {
     "data": {
      "text/plain": [
       "0        4.1\n",
       "1        4.1\n",
       "2        3.8\n",
       "3        3.7\n",
       "4        3.8\n",
       "        ... \n",
       "51709    3.7\n",
       "51711    2.5\n",
       "51712    3.6\n",
       "51715    4.3\n",
       "51716    3.4\n",
       "Name: rate, Length: 43533, dtype: float64"
      ]
     },
     "execution_count": 15,
     "metadata": {},
     "output_type": "execute_result"
    }
   ],
   "source": [
    "#Keep only the rating and convert to float (remove the '/5' for each entry)\n",
    "rest_data['rate'] = rest_data['rate'].astype('str')\n",
    "\n",
    "#Split string by '/'\n",
    "rest_data['rate'] = rest_data['rate'].str.split('/').str[0]\n",
    "\n",
    "#Convert to float\n",
    "rest_data['rate'] = pd.to_numeric(rest_data['rate'], errors = 'coerce')\n",
    "rest_data['rate']"
   ]
  },
  {
   "cell_type": "code",
   "execution_count": 16,
   "id": "e0f134b1",
   "metadata": {},
   "outputs": [],
   "source": [
    "#Make extra column for normalized ratings\n",
    "\n",
    "#change phone column to flag of landline (080) or personal number (+91) (landline is a big restaurant = hypothesis)\n",
    "\n",
    "#split cuisine types and create more rows for those that have multiples (make separate dataframe)\n",
    "\n",
    "#Nice to have: Nominatim API for address to lat/long"
   ]
  },
  {
   "cell_type": "code",
   "execution_count": null,
   "id": "1c01fcea",
   "metadata": {},
   "outputs": [],
   "source": []
  }
 ],
 "metadata": {
  "kernelspec": {
   "display_name": "Python 3",
   "language": "python",
   "name": "python3"
  },
  "language_info": {
   "codemirror_mode": {
    "name": "ipython",
    "version": 3
   },
   "file_extension": ".py",
   "mimetype": "text/x-python",
   "name": "python",
   "nbconvert_exporter": "python",
   "pygments_lexer": "ipython3",
   "version": "3.11.1"
  },
  "vscode": {
   "interpreter": {
    "hash": "a703953121f967bbec3be8dbe6df515eb0b31264d7a0f6c2a2fe2538e4ba7511"
   }
  }
 },
 "nbformat": 4,
 "nbformat_minor": 5
}
