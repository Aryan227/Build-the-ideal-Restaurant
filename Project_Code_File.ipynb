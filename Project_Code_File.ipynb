{
 "cells": [
  {
   "cell_type": "code",
   "execution_count": 45,
   "id": "275bd9e1",
   "metadata": {},
   "outputs": [],
   "source": [
    "import pandas as pd\n",
    "import numpy as np\n",
    "import matplotlib.pyplot as plt\n",
    "import seaborn as sns\n",
    "from sklearn import linear_model"
   ]
  },
  {
   "cell_type": "code",
   "execution_count": 4,
   "id": "f644a94a",
   "metadata": {},
   "outputs": [],
   "source": [
    "#Data from: https://www.kaggle.com/datasets/himanshupoddar/zomato-bangalore-restaurants\n",
    "#Read in data from csv\n",
    "rest_data = pd.read_csv('/Users/mallorysico/Desktop/ProbabilityAndStatistics_1002/Project/zomato.csv')"
   ]
  },
  {
   "cell_type": "code",
   "execution_count": 111,
   "id": "3954476c",
   "metadata": {
    "scrolled": false
   },
   "outputs": [
    {
     "data": {
      "text/html": [
       "<div>\n",
       "<style scoped>\n",
       "    .dataframe tbody tr th:only-of-type {\n",
       "        vertical-align: middle;\n",
       "    }\n",
       "\n",
       "    .dataframe tbody tr th {\n",
       "        vertical-align: top;\n",
       "    }\n",
       "\n",
       "    .dataframe thead th {\n",
       "        text-align: right;\n",
       "    }\n",
       "</style>\n",
       "<table border=\"1\" class=\"dataframe\">\n",
       "  <thead>\n",
       "    <tr style=\"text-align: right;\">\n",
       "      <th></th>\n",
       "      <th>url</th>\n",
       "      <th>address</th>\n",
       "      <th>name</th>\n",
       "      <th>online_order(N = 0, Y=1)</th>\n",
       "      <th>book_table(N = 0, Y=1)</th>\n",
       "      <th>rate</th>\n",
       "      <th>votes</th>\n",
       "      <th>phone(L = 0, P=1)</th>\n",
       "      <th>location</th>\n",
       "      <th>rest_type</th>\n",
       "      <th>dish_liked</th>\n",
       "      <th>cuisines</th>\n",
       "      <th>approx_cost(for two people)</th>\n",
       "      <th>reviews_list</th>\n",
       "      <th>listed_in(type)</th>\n",
       "      <th>listed_in(city)</th>\n",
       "      <th>price_range</th>\n",
       "    </tr>\n",
       "  </thead>\n",
       "  <tbody>\n",
       "    <tr>\n",
       "      <th>0</th>\n",
       "      <td>https://www.zomato.com/bangalore/jalsa-banasha...</td>\n",
       "      <td>942, 21st Main Road, 2nd Stage, Banashankari, ...</td>\n",
       "      <td>Jalsa</td>\n",
       "      <td>1</td>\n",
       "      <td>1</td>\n",
       "      <td>4.1</td>\n",
       "      <td>775</td>\n",
       "      <td>0</td>\n",
       "      <td>Banashankari</td>\n",
       "      <td>Casual Dining</td>\n",
       "      <td>Pasta, Lunch Buffet, Masala Papad, Paneer Laja...</td>\n",
       "      <td>North Indian, Mughlai, Chinese</td>\n",
       "      <td>800</td>\n",
       "      <td>[('Rated 4.0', 'RATED\\n  A beautiful place to ...</td>\n",
       "      <td>Buffet</td>\n",
       "      <td>Banashankari</td>\n",
       "      <td>$$$</td>\n",
       "    </tr>\n",
       "    <tr>\n",
       "      <th>1</th>\n",
       "      <td>https://www.zomato.com/bangalore/spice-elephan...</td>\n",
       "      <td>2nd Floor, 80 Feet Road, Near Big Bazaar, 6th ...</td>\n",
       "      <td>Spice Elephant</td>\n",
       "      <td>1</td>\n",
       "      <td>0</td>\n",
       "      <td>4.1</td>\n",
       "      <td>787</td>\n",
       "      <td>0</td>\n",
       "      <td>Banashankari</td>\n",
       "      <td>Casual Dining</td>\n",
       "      <td>Momos, Lunch Buffet, Chocolate Nirvana, Thai G...</td>\n",
       "      <td>Chinese, North Indian, Thai</td>\n",
       "      <td>800</td>\n",
       "      <td>[('Rated 4.0', 'RATED\\n  Had been here for din...</td>\n",
       "      <td>Buffet</td>\n",
       "      <td>Banashankari</td>\n",
       "      <td>$$$</td>\n",
       "    </tr>\n",
       "    <tr>\n",
       "      <th>2</th>\n",
       "      <td>https://www.zomato.com/SanchurroBangalore?cont...</td>\n",
       "      <td>1112, Next to KIMS Medical College, 17th Cross...</td>\n",
       "      <td>San Churro Cafe</td>\n",
       "      <td>1</td>\n",
       "      <td>0</td>\n",
       "      <td>3.8</td>\n",
       "      <td>918</td>\n",
       "      <td>1</td>\n",
       "      <td>Banashankari</td>\n",
       "      <td>Cafe, Casual Dining</td>\n",
       "      <td>Churros, Cannelloni, Minestrone Soup, Hot Choc...</td>\n",
       "      <td>Cafe, Mexican, Italian</td>\n",
       "      <td>800</td>\n",
       "      <td>[('Rated 3.0', \"RATED\\n  Ambience is not that ...</td>\n",
       "      <td>Buffet</td>\n",
       "      <td>Banashankari</td>\n",
       "      <td>$$$</td>\n",
       "    </tr>\n",
       "    <tr>\n",
       "      <th>3</th>\n",
       "      <td>https://www.zomato.com/bangalore/addhuri-udupi...</td>\n",
       "      <td>1st Floor, Annakuteera, 3rd Stage, Banashankar...</td>\n",
       "      <td>Addhuri Udupi Bhojana</td>\n",
       "      <td>0</td>\n",
       "      <td>0</td>\n",
       "      <td>3.7</td>\n",
       "      <td>88</td>\n",
       "      <td>1</td>\n",
       "      <td>Banashankari</td>\n",
       "      <td>Quick Bites</td>\n",
       "      <td>Masala Dosa</td>\n",
       "      <td>South Indian, North Indian</td>\n",
       "      <td>300</td>\n",
       "      <td>[('Rated 4.0', \"RATED\\n  Great food and proper...</td>\n",
       "      <td>Buffet</td>\n",
       "      <td>Banashankari</td>\n",
       "      <td>$$</td>\n",
       "    </tr>\n",
       "    <tr>\n",
       "      <th>4</th>\n",
       "      <td>https://www.zomato.com/bangalore/grand-village...</td>\n",
       "      <td>10, 3rd Floor, Lakshmi Associates, Gandhi Baza...</td>\n",
       "      <td>Grand Village</td>\n",
       "      <td>0</td>\n",
       "      <td>0</td>\n",
       "      <td>3.8</td>\n",
       "      <td>166</td>\n",
       "      <td>1</td>\n",
       "      <td>Basavanagudi</td>\n",
       "      <td>Casual Dining</td>\n",
       "      <td>Panipuri, Gol Gappe</td>\n",
       "      <td>North Indian, Rajasthani</td>\n",
       "      <td>600</td>\n",
       "      <td>[('Rated 4.0', 'RATED\\n  Very good restaurant ...</td>\n",
       "      <td>Buffet</td>\n",
       "      <td>Banashankari</td>\n",
       "      <td>$$$</td>\n",
       "    </tr>\n",
       "  </tbody>\n",
       "</table>\n",
       "</div>"
      ],
      "text/plain": [
       "                                                 url  \\\n",
       "0  https://www.zomato.com/bangalore/jalsa-banasha...   \n",
       "1  https://www.zomato.com/bangalore/spice-elephan...   \n",
       "2  https://www.zomato.com/SanchurroBangalore?cont...   \n",
       "3  https://www.zomato.com/bangalore/addhuri-udupi...   \n",
       "4  https://www.zomato.com/bangalore/grand-village...   \n",
       "\n",
       "                                             address                   name  \\\n",
       "0  942, 21st Main Road, 2nd Stage, Banashankari, ...                  Jalsa   \n",
       "1  2nd Floor, 80 Feet Road, Near Big Bazaar, 6th ...         Spice Elephant   \n",
       "2  1112, Next to KIMS Medical College, 17th Cross...        San Churro Cafe   \n",
       "3  1st Floor, Annakuteera, 3rd Stage, Banashankar...  Addhuri Udupi Bhojana   \n",
       "4  10, 3rd Floor, Lakshmi Associates, Gandhi Baza...          Grand Village   \n",
       "\n",
       "  online_order(N = 0, Y=1) book_table(N = 0, Y=1)  rate  votes  \\\n",
       "0                        1                      1   4.1    775   \n",
       "1                        1                      0   4.1    787   \n",
       "2                        1                      0   3.8    918   \n",
       "3                        0                      0   3.7     88   \n",
       "4                        0                      0   3.8    166   \n",
       "\n",
       "  phone(L = 0, P=1)      location            rest_type  \\\n",
       "0                 0  Banashankari        Casual Dining   \n",
       "1                 0  Banashankari        Casual Dining   \n",
       "2                 1  Banashankari  Cafe, Casual Dining   \n",
       "3                 1  Banashankari          Quick Bites   \n",
       "4                 1  Basavanagudi        Casual Dining   \n",
       "\n",
       "                                          dish_liked  \\\n",
       "0  Pasta, Lunch Buffet, Masala Papad, Paneer Laja...   \n",
       "1  Momos, Lunch Buffet, Chocolate Nirvana, Thai G...   \n",
       "2  Churros, Cannelloni, Minestrone Soup, Hot Choc...   \n",
       "3                                        Masala Dosa   \n",
       "4                                Panipuri, Gol Gappe   \n",
       "\n",
       "                         cuisines  approx_cost(for two people)  \\\n",
       "0  North Indian, Mughlai, Chinese                          800   \n",
       "1     Chinese, North Indian, Thai                          800   \n",
       "2          Cafe, Mexican, Italian                          800   \n",
       "3      South Indian, North Indian                          300   \n",
       "4        North Indian, Rajasthani                          600   \n",
       "\n",
       "                                        reviews_list listed_in(type)  \\\n",
       "0  [('Rated 4.0', 'RATED\\n  A beautiful place to ...          Buffet   \n",
       "1  [('Rated 4.0', 'RATED\\n  Had been here for din...          Buffet   \n",
       "2  [('Rated 3.0', \"RATED\\n  Ambience is not that ...          Buffet   \n",
       "3  [('Rated 4.0', \"RATED\\n  Great food and proper...          Buffet   \n",
       "4  [('Rated 4.0', 'RATED\\n  Very good restaurant ...          Buffet   \n",
       "\n",
       "  listed_in(city) price_range  \n",
       "0    Banashankari         $$$  \n",
       "1    Banashankari         $$$  \n",
       "2    Banashankari         $$$  \n",
       "3    Banashankari          $$  \n",
       "4    Banashankari         $$$  "
      ]
     },
     "execution_count": 111,
     "metadata": {},
     "output_type": "execute_result"
    }
   ],
   "source": [
    "#Show data\n",
    "rest_data.head()"
   ]
  },
  {
   "cell_type": "code",
   "execution_count": 14,
   "id": "d537719d",
   "metadata": {},
   "outputs": [],
   "source": [
    "#Remove duplicates and null values in relevant columns\n",
    "#Delete duplicates\n",
    "rest_data = rest_data.drop_duplicates('url')\n",
    "\n",
    "#Drop menu items \n",
    "rest_data.drop('menu_item',axis=1,inplace=True)\n",
    "\n",
    "#Drop null values in relevant columns\n",
    "rest_data.dropna(subset=['rate','location','rest_type','cuisines','approx_cost(for two people)'],inplace=True)"
   ]
  },
  {
   "cell_type": "code",
   "execution_count": 15,
   "id": "f6a6cd90",
   "metadata": {},
   "outputs": [
    {
     "data": {
      "text/plain": [
       "0"
      ]
     },
     "execution_count": 15,
     "metadata": {},
     "output_type": "execute_result"
    }
   ],
   "source": [
    "#Check number of null values in relevant columns\n",
    "#21 null values in location column \n",
    "rest_data['location'].isna().sum()\n",
    "\n",
    "#227 null in rest_type\n",
    "rest_data['rest_type'].isna().sum()\n",
    "\n",
    "#20252 null in dish_liked, 28078 null values in dish_liked column without removing any others\n",
    "rest_data['dish_liked'].isna().sum()\n",
    "\n",
    "#11 null in dish_liked, 45 null values in dish_liked column without removing any others\n",
    "rest_data['cuisines'].isna().sum()\n",
    "\n",
    "#11 null, 45 null values in column without removing any others\n",
    "rest_data['cuisines'].isna().sum()\n",
    "\n",
    "#247 null, 346 null values column without removing any others\n",
    "rest_data['approx_cost(for two people)'].isna().sum()\n",
    "\n",
    "#0 null, 0 null values column without removing any others\n",
    "rest_data['reviews_list'].isna().sum()\n",
    "\n",
    "#10052 null values in the rate column\n",
    "rest_data['rate'].isna().sum()\n",
    "\n",
    "#0 null, 0 null values column without removing any others\n",
    "rest_data['listed_in(type)'].isna().sum()"
   ]
  },
  {
   "cell_type": "code",
   "execution_count": 8,
   "id": "e01900c3",
   "metadata": {},
   "outputs": [],
   "source": [
    "#Remove commas from the numbers in the approx_cost\n",
    "rest_data['approx_cost(for two people)'] = rest_data['approx_cost(for two people)'].str.replace(',', '')\n",
    "\n",
    "#Change column to integers\n",
    "rest_data['approx_cost(for two people)'] = rest_data['approx_cost(for two people)'].astype('Int64')"
   ]
  },
  {
   "cell_type": "code",
   "execution_count": 10,
   "id": "49688457",
   "metadata": {},
   "outputs": [
    {
     "data": {
      "text/plain": [
       "0        4.1\n",
       "1        4.1\n",
       "2        3.8\n",
       "3        3.7\n",
       "4        3.8\n",
       "        ... \n",
       "51712    3.6\n",
       "51713    NaN\n",
       "51714    NaN\n",
       "51715    4.3\n",
       "51716    3.4\n",
       "Name: rate, Length: 51717, dtype: float64"
      ]
     },
     "execution_count": 10,
     "metadata": {},
     "output_type": "execute_result"
    }
   ],
   "source": [
    "#Update rate column to numeric: keep only the rating and convert to float (remove the '/5' for each entry)\n",
    "rest_data['rate'] = rest_data['rate'].astype('str')\n",
    "\n",
    "#Split string by '/'\n",
    "rest_data['rate'] = rest_data['rate'].str.split('/').str[0]\n",
    "\n",
    "#Convert to float\n",
    "rest_data['rate'] = pd.to_numeric(rest_data['rate'], errors = 'coerce')\n",
    "rest_data['rate']"
   ]
  },
  {
   "cell_type": "code",
   "execution_count": 24,
   "id": "008133ba",
   "metadata": {},
   "outputs": [
    {
     "data": {
      "text/plain": [
       "0        080\n",
       "1        080\n",
       "2        +91\n",
       "3        +91\n",
       "4        +91\n",
       "        ... \n",
       "51709    +91\n",
       "51711    080\n",
       "51712    080\n",
       "51715    080\n",
       "51716    +91\n",
       "Name: phone, Length: 41263, dtype: object"
      ]
     },
     "execution_count": 24,
     "metadata": {},
     "output_type": "execute_result"
    }
   ],
   "source": [
    "#Create flags for phone number column\n",
    "#Change phone number to string to split\n",
    "rest_data['phone'] = rest_data['phone'].astype('str')\n",
    "\n",
    "#Split by the space in phone numbers\n",
    "rest_data['phone'] = rest_data['phone'].str.split(' ').str[0]\n",
    "\n",
    "#Create flag for data\n",
    "rest_data.loc[rest_data['phone'] == '080', 'phone'] = 'Landline'\n",
    "rest_data.loc[rest_data['phone'] == '+91', 'phone'] = 'Personal'\n",
    "rest_data['phone'] "
   ]
  },
  {
   "cell_type": "code",
   "execution_count": 108,
   "id": "acbe9bf3",
   "metadata": {},
   "outputs": [
    {
     "name": "stderr",
     "output_type": "stream",
     "text": [
      "/Users/mallorysico/opt/anaconda3/lib/python3.9/site-packages/seaborn/distributions.py:2619: FutureWarning: `distplot` is a deprecated function and will be removed in a future version. Please adapt your code to use either `displot` (a figure-level function with similar flexibility) or `histplot` (an axes-level function for histograms).\n",
      "  warnings.warn(msg, FutureWarning)\n"
     ]
    },
    {
     "data": {
      "text/plain": [
       "Text(0.5, 1.0, 'Histogram of Ratings for All Restaurants')"
      ]
     },
     "execution_count": 108,
     "metadata": {},
     "output_type": "execute_result"
    },
    {
     "data": {
      "image/png": "[encoded data removed]",
      "text/plain": [
       "<Figure size 432x288 with 1 Axes>"
      ]
     },
     "metadata": {
      "needs_background": "light"
     },
     "output_type": "display_data"
    }
   ],
   "source": [
    "#Display the distribution of the ratings\n",
    "sns.distplot(rest_data['rate'])\n",
    "plt.title('Histogram of Ratings for All Restaurants')"
   ]
  },
  {
   "attachments": {},
   "cell_type": "markdown",
   "id": "62052f0c",
   "metadata": {},
   "source": [
    "Histogram shows that the ratings have an almost normal distribution with a mean close to 3.7."
   ]
  },
  {
   "cell_type": "code",
   "execution_count": 49,
   "id": "e7d14aea",
   "metadata": {},
   "outputs": [
    {
     "data": {
      "text/plain": [
       "<seaborn.axisgrid.PairGrid at 0x7f8fd4f7bdf0>"
      ]
     },
     "execution_count": 49,
     "metadata": {},
     "output_type": "execute_result"
    },
    {
     "data": {
      "image/png": "[encoded data removed]",
      "text/plain": [
       "<Figure size 540x540 with 12 Axes>"
      ]
     },
     "metadata": {
      "needs_background": "light"
     },
     "output_type": "display_data"
    }
   ],
   "source": [
    "#High level view of numerical column correlations\n",
    "sns.pairplot(data = rest_data)"
   ]
  },
  {
   "attachments": {},
   "cell_type": "markdown",
   "id": "6aca99d6",
   "metadata": {},
   "source": [
    "## Hypothesis from above plot: \n",
    "Votes and ratings: Lower ratings have less votes because once a place has low ratings, less people will go to that restaurant. \n",
    "\n",
    "Votes and cost: There are more votes for lower cost restaurants\n",
    "\n",
    "Ratings and cost: Rating goes up for higher cost restaurants "
   ]
  },
  {
   "cell_type": "code",
   "execution_count": 55,
   "id": "d4a2a994",
   "metadata": {},
   "outputs": [
    {
     "data": {
      "text/plain": [
       "<AxesSubplot:xlabel='rate', ylabel='votes'>"
      ]
     },
     "execution_count": 55,
     "metadata": {},
     "output_type": "execute_result"
    },
    {
     "data": {
      "image/png": "[encoded data removed]",
      "text/plain": [
       "<Figure size 432x288 with 1 Axes>"
      ]
     },
     "metadata": {
      "needs_background": "light"
     },
     "output_type": "display_data"
    }
   ],
   "source": [
    "#Contour plots for rate vs votes\n",
    "sns.kdeplot(x = rest_data['rate'], y = rest_data['votes'], data = rest_data)"
   ]
  },
  {
   "attachments": {},
   "cell_type": "markdown",
   "id": "e52a3020",
   "metadata": {},
   "source": [
    "This contour plot indicates some higher votes when the rating is higher. "
   ]
  },
  {
   "cell_type": "code",
   "execution_count": 56,
   "id": "10d266a9",
   "metadata": {},
   "outputs": [
    {
     "data": {
      "text/plain": [
       "<AxesSubplot:xlabel='votes', ylabel='approx_cost(for two people)'>"
      ]
     },
     "execution_count": 56,
     "metadata": {},
     "output_type": "execute_result"
    },
    {
     "data": {
      "image/png": "[encoded data removed]",
      "text/plain": [
       "<Figure size 432x288 with 1 Axes>"
      ]
     },
     "metadata": {
      "needs_background": "light"
     },
     "output_type": "display_data"
    }
   ],
   "source": [
    "#Contour plots for votes vs cost\n",
    "sns.kdeplot(x = rest_data['votes'], y = rest_data['approx_cost(for two people)'], data = rest_data)"
   ]
  },
  {
   "attachments": {},
   "cell_type": "markdown",
   "id": "ecb6a361",
   "metadata": {},
   "source": [
    "This contour plot indicates a lack of spread of the data. "
   ]
  },
  {
   "cell_type": "code",
   "execution_count": 110,
   "id": "c5f2d73c",
   "metadata": {},
   "outputs": [
    {
     "data": {
      "text/plain": [
       "Text(0.5, 1.0, 'Kernel Density Contour Plot of Rate vs. Cost Per Person')"
      ]
     },
     "execution_count": 110,
     "metadata": {},
     "output_type": "execute_result"
    },
    {
     "data": {
      "image/png": "[encoded data removed]",
      "text/plain": [
       "<Figure size 432x288 with 1 Axes>"
      ]
     },
     "metadata": {
      "needs_background": "light"
     },
     "output_type": "display_data"
    }
   ],
   "source": [
    "#Contour plots for rate vs cost\n",
    "sns.kdeplot(x = rest_data['rate'], y = rest_data['approx_cost(for two people)'], data = rest_data)\n",
    "plt.ylim(0, 3000)\n",
    "plt.title('Kernel Density Contour Plot of Rate vs. Cost Per Person')"
   ]
  },
  {
   "attachments": {},
   "cell_type": "markdown",
   "id": "cf2d6b17",
   "metadata": {},
   "source": [
    "This contour plot indicates a positive correlation between the rate and the approximate cost per person. "
   ]
  },
  {
   "cell_type": "code",
   "execution_count": 112,
   "id": "e1478904",
   "metadata": {},
   "outputs": [
    {
     "data": {
      "text/html": [
       "<div>\n",
       "<style scoped>\n",
       "    .dataframe tbody tr th:only-of-type {\n",
       "        vertical-align: middle;\n",
       "    }\n",
       "\n",
       "    .dataframe tbody tr th {\n",
       "        vertical-align: top;\n",
       "    }\n",
       "\n",
       "    .dataframe thead th {\n",
       "        text-align: right;\n",
       "    }\n",
       "</style>\n",
       "<table border=\"1\" class=\"dataframe\">\n",
       "  <thead>\n",
       "    <tr style=\"text-align: right;\">\n",
       "      <th></th>\n",
       "      <th>url</th>\n",
       "      <th>address</th>\n",
       "      <th>name</th>\n",
       "      <th>online_order(N = 0, Y=1)</th>\n",
       "      <th>book_table(N = 0, Y=1)</th>\n",
       "      <th>rate</th>\n",
       "      <th>votes</th>\n",
       "      <th>phone(L = 0, P=1)</th>\n",
       "      <th>location</th>\n",
       "      <th>rest_type</th>\n",
       "      <th>dish_liked</th>\n",
       "      <th>cuisines</th>\n",
       "      <th>approx_cost(for two people)</th>\n",
       "      <th>reviews_list</th>\n",
       "      <th>listed_in(type)</th>\n",
       "      <th>listed_in(city)</th>\n",
       "      <th>price_range</th>\n",
       "    </tr>\n",
       "  </thead>\n",
       "  <tbody>\n",
       "    <tr>\n",
       "      <th>0</th>\n",
       "      <td>https://www.zomato.com/bangalore/jalsa-banasha...</td>\n",
       "      <td>942, 21st Main Road, 2nd Stage, Banashankari, ...</td>\n",
       "      <td>Jalsa</td>\n",
       "      <td>1</td>\n",
       "      <td>1</td>\n",
       "      <td>4.1</td>\n",
       "      <td>775</td>\n",
       "      <td>0</td>\n",
       "      <td>Banashankari</td>\n",
       "      <td>Casual Dining</td>\n",
       "      <td>Pasta, Lunch Buffet, Masala Papad, Paneer Laja...</td>\n",
       "      <td>North Indian, Mughlai, Chinese</td>\n",
       "      <td>800</td>\n",
       "      <td>[('Rated 4.0', 'RATED\\n  A beautiful place to ...</td>\n",
       "      <td>Buffet</td>\n",
       "      <td>Banashankari</td>\n",
       "      <td>$$$</td>\n",
       "    </tr>\n",
       "    <tr>\n",
       "      <th>1</th>\n",
       "      <td>https://www.zomato.com/bangalore/spice-elephan...</td>\n",
       "      <td>2nd Floor, 80 Feet Road, Near Big Bazaar, 6th ...</td>\n",
       "      <td>Spice Elephant</td>\n",
       "      <td>1</td>\n",
       "      <td>0</td>\n",
       "      <td>4.1</td>\n",
       "      <td>787</td>\n",
       "      <td>0</td>\n",
       "      <td>Banashankari</td>\n",
       "      <td>Casual Dining</td>\n",
       "      <td>Momos, Lunch Buffet, Chocolate Nirvana, Thai G...</td>\n",
       "      <td>Chinese, North Indian, Thai</td>\n",
       "      <td>800</td>\n",
       "      <td>[('Rated 4.0', 'RATED\\n  Had been here for din...</td>\n",
       "      <td>Buffet</td>\n",
       "      <td>Banashankari</td>\n",
       "      <td>$$$</td>\n",
       "    </tr>\n",
       "    <tr>\n",
       "      <th>2</th>\n",
       "      <td>https://www.zomato.com/SanchurroBangalore?cont...</td>\n",
       "      <td>1112, Next to KIMS Medical College, 17th Cross...</td>\n",
       "      <td>San Churro Cafe</td>\n",
       "      <td>1</td>\n",
       "      <td>0</td>\n",
       "      <td>3.8</td>\n",
       "      <td>918</td>\n",
       "      <td>1</td>\n",
       "      <td>Banashankari</td>\n",
       "      <td>Cafe, Casual Dining</td>\n",
       "      <td>Churros, Cannelloni, Minestrone Soup, Hot Choc...</td>\n",
       "      <td>Cafe, Mexican, Italian</td>\n",
       "      <td>800</td>\n",
       "      <td>[('Rated 3.0', \"RATED\\n  Ambience is not that ...</td>\n",
       "      <td>Buffet</td>\n",
       "      <td>Banashankari</td>\n",
       "      <td>$$$</td>\n",
       "    </tr>\n",
       "    <tr>\n",
       "      <th>3</th>\n",
       "      <td>https://www.zomato.com/bangalore/addhuri-udupi...</td>\n",
       "      <td>1st Floor, Annakuteera, 3rd Stage, Banashankar...</td>\n",
       "      <td>Addhuri Udupi Bhojana</td>\n",
       "      <td>0</td>\n",
       "      <td>0</td>\n",
       "      <td>3.7</td>\n",
       "      <td>88</td>\n",
       "      <td>1</td>\n",
       "      <td>Banashankari</td>\n",
       "      <td>Quick Bites</td>\n",
       "      <td>Masala Dosa</td>\n",
       "      <td>South Indian, North Indian</td>\n",
       "      <td>300</td>\n",
       "      <td>[('Rated 4.0', \"RATED\\n  Great food and proper...</td>\n",
       "      <td>Buffet</td>\n",
       "      <td>Banashankari</td>\n",
       "      <td>$$</td>\n",
       "    </tr>\n",
       "    <tr>\n",
       "      <th>4</th>\n",
       "      <td>https://www.zomato.com/bangalore/grand-village...</td>\n",
       "      <td>10, 3rd Floor, Lakshmi Associates, Gandhi Baza...</td>\n",
       "      <td>Grand Village</td>\n",
       "      <td>0</td>\n",
       "      <td>0</td>\n",
       "      <td>3.8</td>\n",
       "      <td>166</td>\n",
       "      <td>1</td>\n",
       "      <td>Basavanagudi</td>\n",
       "      <td>Casual Dining</td>\n",
       "      <td>Panipuri, Gol Gappe</td>\n",
       "      <td>North Indian, Rajasthani</td>\n",
       "      <td>600</td>\n",
       "      <td>[('Rated 4.0', 'RATED\\n  Very good restaurant ...</td>\n",
       "      <td>Buffet</td>\n",
       "      <td>Banashankari</td>\n",
       "      <td>$$$</td>\n",
       "    </tr>\n",
       "  </tbody>\n",
       "</table>\n",
       "</div>"
      ],
      "text/plain": [
       "                                                 url  \\\n",
       "0  https://www.zomato.com/bangalore/jalsa-banasha...   \n",
       "1  https://www.zomato.com/bangalore/spice-elephan...   \n",
       "2  https://www.zomato.com/SanchurroBangalore?cont...   \n",
       "3  https://www.zomato.com/bangalore/addhuri-udupi...   \n",
       "4  https://www.zomato.com/bangalore/grand-village...   \n",
       "\n",
       "                                             address                   name  \\\n",
       "0  942, 21st Main Road, 2nd Stage, Banashankari, ...                  Jalsa   \n",
       "1  2nd Floor, 80 Feet Road, Near Big Bazaar, 6th ...         Spice Elephant   \n",
       "2  1112, Next to KIMS Medical College, 17th Cross...        San Churro Cafe   \n",
       "3  1st Floor, Annakuteera, 3rd Stage, Banashankar...  Addhuri Udupi Bhojana   \n",
       "4  10, 3rd Floor, Lakshmi Associates, Gandhi Baza...          Grand Village   \n",
       "\n",
       "  online_order(N = 0, Y=1) book_table(N = 0, Y=1)  rate  votes  \\\n",
       "0                        1                      1   4.1    775   \n",
       "1                        1                      0   4.1    787   \n",
       "2                        1                      0   3.8    918   \n",
       "3                        0                      0   3.7     88   \n",
       "4                        0                      0   3.8    166   \n",
       "\n",
       "  phone(L = 0, P=1)      location            rest_type  \\\n",
       "0                 0  Banashankari        Casual Dining   \n",
       "1                 0  Banashankari        Casual Dining   \n",
       "2                 1  Banashankari  Cafe, Casual Dining   \n",
       "3                 1  Banashankari          Quick Bites   \n",
       "4                 1  Basavanagudi        Casual Dining   \n",
       "\n",
       "                                          dish_liked  \\\n",
       "0  Pasta, Lunch Buffet, Masala Papad, Paneer Laja...   \n",
       "1  Momos, Lunch Buffet, Chocolate Nirvana, Thai G...   \n",
       "2  Churros, Cannelloni, Minestrone Soup, Hot Choc...   \n",
       "3                                        Masala Dosa   \n",
       "4                                Panipuri, Gol Gappe   \n",
       "\n",
       "                         cuisines  approx_cost(for two people)  \\\n",
       "0  North Indian, Mughlai, Chinese                          800   \n",
       "1     Chinese, North Indian, Thai                          800   \n",
       "2          Cafe, Mexican, Italian                          800   \n",
       "3      South Indian, North Indian                          300   \n",
       "4        North Indian, Rajasthani                          600   \n",
       "\n",
       "                                        reviews_list listed_in(type)  \\\n",
       "0  [('Rated 4.0', 'RATED\\n  A beautiful place to ...          Buffet   \n",
       "1  [('Rated 4.0', 'RATED\\n  Had been here for din...          Buffet   \n",
       "2  [('Rated 3.0', \"RATED\\n  Ambience is not that ...          Buffet   \n",
       "3  [('Rated 4.0', \"RATED\\n  Great food and proper...          Buffet   \n",
       "4  [('Rated 4.0', 'RATED\\n  Very good restaurant ...          Buffet   \n",
       "\n",
       "  listed_in(city) price_range  \n",
       "0    Banashankari         $$$  \n",
       "1    Banashankari         $$$  \n",
       "2    Banashankari         $$$  \n",
       "3    Banashankari          $$  \n",
       "4    Banashankari         $$$  "
      ]
     },
     "execution_count": 112,
     "metadata": {},
     "output_type": "execute_result"
    }
   ],
   "source": [
    "#Change online order, book_table and phone to binary numeric identifiers\n",
    "rest_data.loc[rest_data['phone'] == 'Landline', 'phone'] = 0 \n",
    "rest_data.loc[rest_data['phone'] == 'Personal', 'phone'] = 1 \n",
    "rest_data = rest_data.rename(columns = {'phone': 'phone(L = 0, P=1)'})\n",
    "\n",
    "rest_data.loc[rest_data['online_order'] == 'No', 'online_order'] = 0\n",
    "rest_data.loc[rest_data['online_order'] == 'Yes', 'online_order'] = 1\n",
    "rest_data = rest_data.rename(columns = {'online_order': 'online_order(N = 0, Y=1)'})\n",
    "\n",
    "rest_data.loc[rest_data['book_table'] == 'No', 'book_table'] = 0 \n",
    "rest_data.loc[rest_data['book_table'] == 'Yes', 'book_table'] = 1\n",
    "rest_data = rest_data.rename(columns = {'book_table': 'book_table(N = 0, Y=1)'})\n",
    "\n",
    "rest_data.head()"
   ]
  },
  {
   "cell_type": "code",
   "execution_count": 73,
   "id": "570695aa",
   "metadata": {},
   "outputs": [
    {
     "data": {
      "text/plain": [
       "(array([3.2149e+04, 3.7680e+03, 1.7490e+03, 9.7100e+02, 5.1000e+02,\n",
       "        5.4700e+02, 3.5500e+02, 2.2500e+02, 2.0600e+02, 1.0200e+02,\n",
       "        1.2900e+02, 1.0500e+02, 4.3000e+01, 1.1000e+02, 6.6000e+01,\n",
       "        2.0000e+01, 5.0000e+00, 1.0000e+01, 1.6000e+01, 1.1000e+01,\n",
       "        2.7000e+01, 3.7000e+01, 1.1000e+01, 1.0000e+01, 1.5000e+01,\n",
       "        1.0000e+00, 2.3000e+01, 4.0000e+00, 0.0000e+00, 0.0000e+00,\n",
       "        3.0000e+00, 1.0000e+01, 0.0000e+00, 0.0000e+00, 0.0000e+00,\n",
       "        0.0000e+00, 2.0000e+00, 0.0000e+00, 0.0000e+00, 0.0000e+00,\n",
       "        0.0000e+00, 0.0000e+00, 0.0000e+00, 1.5000e+01, 2.0000e+00,\n",
       "        0.0000e+00, 0.0000e+00, 0.0000e+00, 3.0000e+00, 3.0000e+00]),\n",
       " array([    0.  ,   336.64,   673.28,  1009.92,  1346.56,  1683.2 ,\n",
       "         2019.84,  2356.48,  2693.12,  3029.76,  3366.4 ,  3703.04,\n",
       "         4039.68,  4376.32,  4712.96,  5049.6 ,  5386.24,  5722.88,\n",
       "         6059.52,  6396.16,  6732.8 ,  7069.44,  7406.08,  7742.72,\n",
       "         8079.36,  8416.  ,  8752.64,  9089.28,  9425.92,  9762.56,\n",
       "        10099.2 , 10435.84, 10772.48, 11109.12, 11445.76, 11782.4 ,\n",
       "        12119.04, 12455.68, 12792.32, 13128.96, 13465.6 , 13802.24,\n",
       "        14138.88, 14475.52, 14812.16, 15148.8 , 15485.44, 15822.08,\n",
       "        16158.72, 16495.36, 16832.  ]),\n",
       " <BarContainer object of 50 artists>)"
      ]
     },
     "execution_count": 73,
     "metadata": {},
     "output_type": "execute_result"
    },
    {
     "data": {
      "image/png": "[encoded data removed]",
      "text/plain": [
       "<Figure size 432x288 with 1 Axes>"
      ]
     },
     "metadata": {
      "needs_background": "light"
     },
     "output_type": "display_data"
    }
   ],
   "source": [
    "#Plot histogram of votes for all restaurants\n",
    "plt.hist(rest_data['votes'], bins = 50)\n"
   ]
  },
  {
   "attachments": {},
   "cell_type": "markdown",
   "id": "8319427e",
   "metadata": {},
   "source": [
    "This histogram shows that the votes are highly skewed towards the low end. More than 50% of the data has fewer than 50 votes. "
   ]
  },
  {
   "cell_type": "code",
   "execution_count": 76,
   "id": "63f23998",
   "metadata": {},
   "outputs": [
    {
     "data": {
      "text/plain": [
       "(array([  40.,  121.,  426., 1041.,  963., 1907., 7432., 7790., 3465.,\n",
       "         588.]),\n",
       " array([1.8 , 2.11, 2.42, 2.73, 3.04, 3.35, 3.66, 3.97, 4.28, 4.59, 4.9 ]),\n",
       " <BarContainer object of 10 artists>)"
      ]
     },
     "execution_count": 76,
     "metadata": {},
     "output_type": "execute_result"
    },
    {
     "data": {
      "image/png": "[encoded data removed]",
      "text/plain": [
       "<Figure size 432x288 with 1 Axes>"
      ]
     },
     "metadata": {
      "needs_background": "light"
     },
     "output_type": "display_data"
    }
   ],
   "source": [
    "#Plot distribution of ratings for restaurants that have more than 50 votes\n",
    "plt.hist(rest_data['rate'].loc[rest_data['votes'] > 50])\n"
   ]
  },
  {
   "attachments": {},
   "cell_type": "markdown",
   "id": "d90c19f4",
   "metadata": {},
   "source": [
    "The restaurants that have more than 50 votes have most ratings above 3.7. "
   ]
  },
  {
   "cell_type": "code",
   "execution_count": 77,
   "id": "11a55cf9",
   "metadata": {},
   "outputs": [
    {
     "data": {
      "text/plain": [
       "(array([  22.,  115.,  315., 2274., 3518., 4274., 5696.,  947.,  148.,\n",
       "          19.]),\n",
       " array([2.2 , 2.43, 2.66, 2.89, 3.12, 3.35, 3.58, 3.81, 4.04, 4.27, 4.5 ]),\n",
       " <BarContainer object of 10 artists>)"
      ]
     },
     "execution_count": 77,
     "metadata": {},
     "output_type": "execute_result"
    },
    {
     "data": {
      "image/png": "[encoded data removed]",
      "text/plain": [
       "<Figure size 432x288 with 1 Axes>"
      ]
     },
     "metadata": {
      "needs_background": "light"
     },
     "output_type": "display_data"
    }
   ],
   "source": [
    "#Plot distribution of ratings for restaurants that have fewer than 50 votes\n",
    "plt.hist(rest_data['rate'].loc[rest_data['votes'] < 50])"
   ]
  },
  {
   "attachments": {},
   "cell_type": "markdown",
   "id": "52bba351",
   "metadata": {},
   "source": [
    "The restaurants that have fewer than 50 votes have most ratings distributed between 3 and 3.7. "
   ]
  },
  {
   "cell_type": "code",
   "execution_count": 104,
   "id": "a84c83c2",
   "metadata": {},
   "outputs": [
    {
     "data": {
      "text/plain": [
       "5135"
      ]
     },
     "execution_count": 104,
     "metadata": {},
     "output_type": "execute_result"
    }
   ],
   "source": [
    "#Check amount of values in each of the ranges of restaurant type\n",
    "#Budget: 7825\n",
    "len(rest_data.loc[rest_data['approx_cost(for two people)'] <= 250])\n",
    "\n",
    "#Mid-low: 17177\n",
    "len(rest_data.loc[(rest_data['approx_cost(for two people)'] > 250) & (rest_data['approx_cost(for two people)'] <= 500)])\n",
    "\n",
    "#Mid-high: 11666\n",
    "len(rest_data.loc[(rest_data['approx_cost(for two people)'] > 500) & (rest_data['approx_cost(for two people)'] <= 1000)])\n",
    "\n",
    "#High: 5135\n",
    "len(rest_data.loc[rest_data['approx_cost(for two people)'] > 1000])\n"
   ]
  },
  {
   "cell_type": "code",
   "execution_count": 107,
   "id": "8acdb56c",
   "metadata": {},
   "outputs": [
    {
     "data": {
      "text/html": [
       "<div>\n",
       "<style scoped>\n",
       "    .dataframe tbody tr th:only-of-type {\n",
       "        vertical-align: middle;\n",
       "    }\n",
       "\n",
       "    .dataframe tbody tr th {\n",
       "        vertical-align: top;\n",
       "    }\n",
       "\n",
       "    .dataframe thead th {\n",
       "        text-align: right;\n",
       "    }\n",
       "</style>\n",
       "<table border=\"1\" class=\"dataframe\">\n",
       "  <thead>\n",
       "    <tr style=\"text-align: right;\">\n",
       "      <th></th>\n",
       "      <th>url</th>\n",
       "      <th>address</th>\n",
       "      <th>name</th>\n",
       "      <th>online_order(N = 0, Y=1)</th>\n",
       "      <th>book_table(N = 0, Y=1)</th>\n",
       "      <th>rate</th>\n",
       "      <th>votes</th>\n",
       "      <th>phone(L = 0, P=1)</th>\n",
       "      <th>location</th>\n",
       "      <th>rest_type</th>\n",
       "      <th>dish_liked</th>\n",
       "      <th>cuisines</th>\n",
       "      <th>approx_cost(for two people)</th>\n",
       "      <th>reviews_list</th>\n",
       "      <th>listed_in(type)</th>\n",
       "      <th>listed_in(city)</th>\n",
       "      <th>price_range</th>\n",
       "    </tr>\n",
       "  </thead>\n",
       "  <tbody>\n",
       "    <tr>\n",
       "      <th>0</th>\n",
       "      <td>https://www.zomato.com/bangalore/jalsa-banasha...</td>\n",
       "      <td>942, 21st Main Road, 2nd Stage, Banashankari, ...</td>\n",
       "      <td>Jalsa</td>\n",
       "      <td>1</td>\n",
       "      <td>1</td>\n",
       "      <td>4.1</td>\n",
       "      <td>775</td>\n",
       "      <td>0</td>\n",
       "      <td>Banashankari</td>\n",
       "      <td>Casual Dining</td>\n",
       "      <td>Pasta, Lunch Buffet, Masala Papad, Paneer Laja...</td>\n",
       "      <td>North Indian, Mughlai, Chinese</td>\n",
       "      <td>800</td>\n",
       "      <td>[('Rated 4.0', 'RATED\\n  A beautiful place to ...</td>\n",
       "      <td>Buffet</td>\n",
       "      <td>Banashankari</td>\n",
       "      <td>$$$</td>\n",
       "    </tr>\n",
       "    <tr>\n",
       "      <th>1</th>\n",
       "      <td>https://www.zomato.com/bangalore/spice-elephan...</td>\n",
       "      <td>2nd Floor, 80 Feet Road, Near Big Bazaar, 6th ...</td>\n",
       "      <td>Spice Elephant</td>\n",
       "      <td>1</td>\n",
       "      <td>0</td>\n",
       "      <td>4.1</td>\n",
       "      <td>787</td>\n",
       "      <td>0</td>\n",
       "      <td>Banashankari</td>\n",
       "      <td>Casual Dining</td>\n",
       "      <td>Momos, Lunch Buffet, Chocolate Nirvana, Thai G...</td>\n",
       "      <td>Chinese, North Indian, Thai</td>\n",
       "      <td>800</td>\n",
       "      <td>[('Rated 4.0', 'RATED\\n  Had been here for din...</td>\n",
       "      <td>Buffet</td>\n",
       "      <td>Banashankari</td>\n",
       "      <td>$$$</td>\n",
       "    </tr>\n",
       "    <tr>\n",
       "      <th>2</th>\n",
       "      <td>https://www.zomato.com/SanchurroBangalore?cont...</td>\n",
       "      <td>1112, Next to KIMS Medical College, 17th Cross...</td>\n",
       "      <td>San Churro Cafe</td>\n",
       "      <td>1</td>\n",
       "      <td>0</td>\n",
       "      <td>3.8</td>\n",
       "      <td>918</td>\n",
       "      <td>1</td>\n",
       "      <td>Banashankari</td>\n",
       "      <td>Cafe, Casual Dining</td>\n",
       "      <td>Churros, Cannelloni, Minestrone Soup, Hot Choc...</td>\n",
       "      <td>Cafe, Mexican, Italian</td>\n",
       "      <td>800</td>\n",
       "      <td>[('Rated 3.0', \"RATED\\n  Ambience is not that ...</td>\n",
       "      <td>Buffet</td>\n",
       "      <td>Banashankari</td>\n",
       "      <td>$$$</td>\n",
       "    </tr>\n",
       "    <tr>\n",
       "      <th>3</th>\n",
       "      <td>https://www.zomato.com/bangalore/addhuri-udupi...</td>\n",
       "      <td>1st Floor, Annakuteera, 3rd Stage, Banashankar...</td>\n",
       "      <td>Addhuri Udupi Bhojana</td>\n",
       "      <td>0</td>\n",
       "      <td>0</td>\n",
       "      <td>3.7</td>\n",
       "      <td>88</td>\n",
       "      <td>1</td>\n",
       "      <td>Banashankari</td>\n",
       "      <td>Quick Bites</td>\n",
       "      <td>Masala Dosa</td>\n",
       "      <td>South Indian, North Indian</td>\n",
       "      <td>300</td>\n",
       "      <td>[('Rated 4.0', \"RATED\\n  Great food and proper...</td>\n",
       "      <td>Buffet</td>\n",
       "      <td>Banashankari</td>\n",
       "      <td>$$</td>\n",
       "    </tr>\n",
       "    <tr>\n",
       "      <th>4</th>\n",
       "      <td>https://www.zomato.com/bangalore/grand-village...</td>\n",
       "      <td>10, 3rd Floor, Lakshmi Associates, Gandhi Baza...</td>\n",
       "      <td>Grand Village</td>\n",
       "      <td>0</td>\n",
       "      <td>0</td>\n",
       "      <td>3.8</td>\n",
       "      <td>166</td>\n",
       "      <td>1</td>\n",
       "      <td>Basavanagudi</td>\n",
       "      <td>Casual Dining</td>\n",
       "      <td>Panipuri, Gol Gappe</td>\n",
       "      <td>North Indian, Rajasthani</td>\n",
       "      <td>600</td>\n",
       "      <td>[('Rated 4.0', 'RATED\\n  Very good restaurant ...</td>\n",
       "      <td>Buffet</td>\n",
       "      <td>Banashankari</td>\n",
       "      <td>$$$</td>\n",
       "    </tr>\n",
       "    <tr>\n",
       "      <th>...</th>\n",
       "      <td>...</td>\n",
       "      <td>...</td>\n",
       "      <td>...</td>\n",
       "      <td>...</td>\n",
       "      <td>...</td>\n",
       "      <td>...</td>\n",
       "      <td>...</td>\n",
       "      <td>...</td>\n",
       "      <td>...</td>\n",
       "      <td>...</td>\n",
       "      <td>...</td>\n",
       "      <td>...</td>\n",
       "      <td>...</td>\n",
       "      <td>...</td>\n",
       "      <td>...</td>\n",
       "      <td>...</td>\n",
       "      <td>...</td>\n",
       "    </tr>\n",
       "    <tr>\n",
       "      <th>51709</th>\n",
       "      <td>https://www.zomato.com/bangalore/the-farm-hous...</td>\n",
       "      <td>136, SAP Labs India, KIADB Export Promotion In...</td>\n",
       "      <td>The Farm House Bar n Grill</td>\n",
       "      <td>0</td>\n",
       "      <td>0</td>\n",
       "      <td>3.7</td>\n",
       "      <td>34</td>\n",
       "      <td>1</td>\n",
       "      <td>Whitefield</td>\n",
       "      <td>Casual Dining, Bar</td>\n",
       "      <td>NaN</td>\n",
       "      <td>North Indian, Continental</td>\n",
       "      <td>800</td>\n",
       "      <td>[('Rated 4.0', 'RATED\\n  Ambience- Big and spa...</td>\n",
       "      <td>Pubs and bars</td>\n",
       "      <td>Whitefield</td>\n",
       "      <td>$$$</td>\n",
       "    </tr>\n",
       "    <tr>\n",
       "      <th>51711</th>\n",
       "      <td>https://www.zomato.com/bangalore/bhagini-2-whi...</td>\n",
       "      <td>139/C1, Next To GR Tech Park, Pattandur Agraha...</td>\n",
       "      <td>Bhagini</td>\n",
       "      <td>0</td>\n",
       "      <td>0</td>\n",
       "      <td>2.5</td>\n",
       "      <td>81</td>\n",
       "      <td>0</td>\n",
       "      <td>Whitefield</td>\n",
       "      <td>Casual Dining, Bar</td>\n",
       "      <td>Biryani, Andhra Meal</td>\n",
       "      <td>Andhra, South Indian, Chinese, North Indian</td>\n",
       "      <td>800</td>\n",
       "      <td>[('Rated 4.0', 'RATED\\n  A fine place to chill...</td>\n",
       "      <td>Pubs and bars</td>\n",
       "      <td>Whitefield</td>\n",
       "      <td>$$$</td>\n",
       "    </tr>\n",
       "    <tr>\n",
       "      <th>51712</th>\n",
       "      <td>https://www.zomato.com/bangalore/best-brews-fo...</td>\n",
       "      <td>Four Points by Sheraton Bengaluru, 43/3, White...</td>\n",
       "      <td>Best Brews - Four Points by Sheraton Bengaluru...</td>\n",
       "      <td>0</td>\n",
       "      <td>0</td>\n",
       "      <td>3.6</td>\n",
       "      <td>27</td>\n",
       "      <td>0</td>\n",
       "      <td>Whitefield</td>\n",
       "      <td>Bar</td>\n",
       "      <td>NaN</td>\n",
       "      <td>Continental</td>\n",
       "      <td>1500</td>\n",
       "      <td>[('Rated 5.0', \"RATED\\n  Food and service are ...</td>\n",
       "      <td>Pubs and bars</td>\n",
       "      <td>Whitefield</td>\n",
       "      <td>$$$$</td>\n",
       "    </tr>\n",
       "    <tr>\n",
       "      <th>51715</th>\n",
       "      <td>https://www.zomato.com/bangalore/chime-sherato...</td>\n",
       "      <td>Sheraton Grand Bengaluru Whitefield Hotel &amp; Co...</td>\n",
       "      <td>Chime - Sheraton Grand Bengaluru Whitefield Ho...</td>\n",
       "      <td>0</td>\n",
       "      <td>1</td>\n",
       "      <td>4.3</td>\n",
       "      <td>236</td>\n",
       "      <td>0</td>\n",
       "      <td>ITPL Main Road, Whitefield</td>\n",
       "      <td>Bar</td>\n",
       "      <td>Cocktails, Pizza, Buttermilk</td>\n",
       "      <td>Finger Food</td>\n",
       "      <td>2500</td>\n",
       "      <td>[('Rated 4.0', 'RATED\\n  Nice and friendly pla...</td>\n",
       "      <td>Pubs and bars</td>\n",
       "      <td>Whitefield</td>\n",
       "      <td>$$$$</td>\n",
       "    </tr>\n",
       "    <tr>\n",
       "      <th>51716</th>\n",
       "      <td>https://www.zomato.com/bangalore/the-nest-the-...</td>\n",
       "      <td>ITPL Main Road, KIADB Export Promotion Industr...</td>\n",
       "      <td>The Nest - The Den Bengaluru</td>\n",
       "      <td>0</td>\n",
       "      <td>0</td>\n",
       "      <td>3.4</td>\n",
       "      <td>13</td>\n",
       "      <td>1</td>\n",
       "      <td>ITPL Main Road, Whitefield</td>\n",
       "      <td>Bar, Casual Dining</td>\n",
       "      <td>NaN</td>\n",
       "      <td>Finger Food, North Indian, Continental</td>\n",
       "      <td>1500</td>\n",
       "      <td>[('Rated 5.0', 'RATED\\n  Great ambience , look...</td>\n",
       "      <td>Pubs and bars</td>\n",
       "      <td>Whitefield</td>\n",
       "      <td>$$$$</td>\n",
       "    </tr>\n",
       "  </tbody>\n",
       "</table>\n",
       "<p>41263 rows × 17 columns</p>\n",
       "</div>"
      ],
      "text/plain": [
       "                                                     url  \\\n",
       "0      https://www.zomato.com/bangalore/jalsa-banasha...   \n",
       "1      https://www.zomato.com/bangalore/spice-elephan...   \n",
       "2      https://www.zomato.com/SanchurroBangalore?cont...   \n",
       "3      https://www.zomato.com/bangalore/addhuri-udupi...   \n",
       "4      https://www.zomato.com/bangalore/grand-village...   \n",
       "...                                                  ...   \n",
       "51709  https://www.zomato.com/bangalore/the-farm-hous...   \n",
       "51711  https://www.zomato.com/bangalore/bhagini-2-whi...   \n",
       "51712  https://www.zomato.com/bangalore/best-brews-fo...   \n",
       "51715  https://www.zomato.com/bangalore/chime-sherato...   \n",
       "51716  https://www.zomato.com/bangalore/the-nest-the-...   \n",
       "\n",
       "                                                 address  \\\n",
       "0      942, 21st Main Road, 2nd Stage, Banashankari, ...   \n",
       "1      2nd Floor, 80 Feet Road, Near Big Bazaar, 6th ...   \n",
       "2      1112, Next to KIMS Medical College, 17th Cross...   \n",
       "3      1st Floor, Annakuteera, 3rd Stage, Banashankar...   \n",
       "4      10, 3rd Floor, Lakshmi Associates, Gandhi Baza...   \n",
       "...                                                  ...   \n",
       "51709  136, SAP Labs India, KIADB Export Promotion In...   \n",
       "51711  139/C1, Next To GR Tech Park, Pattandur Agraha...   \n",
       "51712  Four Points by Sheraton Bengaluru, 43/3, White...   \n",
       "51715  Sheraton Grand Bengaluru Whitefield Hotel & Co...   \n",
       "51716  ITPL Main Road, KIADB Export Promotion Industr...   \n",
       "\n",
       "                                                    name  \\\n",
       "0                                                  Jalsa   \n",
       "1                                         Spice Elephant   \n",
       "2                                        San Churro Cafe   \n",
       "3                                  Addhuri Udupi Bhojana   \n",
       "4                                          Grand Village   \n",
       "...                                                  ...   \n",
       "51709                         The Farm House Bar n Grill   \n",
       "51711                                            Bhagini   \n",
       "51712  Best Brews - Four Points by Sheraton Bengaluru...   \n",
       "51715  Chime - Sheraton Grand Bengaluru Whitefield Ho...   \n",
       "51716                       The Nest - The Den Bengaluru   \n",
       "\n",
       "      online_order(N = 0, Y=1) book_table(N = 0, Y=1)  rate  votes  \\\n",
       "0                            1                      1   4.1    775   \n",
       "1                            1                      0   4.1    787   \n",
       "2                            1                      0   3.8    918   \n",
       "3                            0                      0   3.7     88   \n",
       "4                            0                      0   3.8    166   \n",
       "...                        ...                    ...   ...    ...   \n",
       "51709                        0                      0   3.7     34   \n",
       "51711                        0                      0   2.5     81   \n",
       "51712                        0                      0   3.6     27   \n",
       "51715                        0                      1   4.3    236   \n",
       "51716                        0                      0   3.4     13   \n",
       "\n",
       "      phone(L = 0, P=1)                    location            rest_type  \\\n",
       "0                     0                Banashankari        Casual Dining   \n",
       "1                     0                Banashankari        Casual Dining   \n",
       "2                     1                Banashankari  Cafe, Casual Dining   \n",
       "3                     1                Banashankari          Quick Bites   \n",
       "4                     1                Basavanagudi        Casual Dining   \n",
       "...                 ...                         ...                  ...   \n",
       "51709                 1                  Whitefield   Casual Dining, Bar   \n",
       "51711                 0                  Whitefield   Casual Dining, Bar   \n",
       "51712                 0                  Whitefield                  Bar   \n",
       "51715                 0  ITPL Main Road, Whitefield                  Bar   \n",
       "51716                 1  ITPL Main Road, Whitefield   Bar, Casual Dining   \n",
       "\n",
       "                                              dish_liked  \\\n",
       "0      Pasta, Lunch Buffet, Masala Papad, Paneer Laja...   \n",
       "1      Momos, Lunch Buffet, Chocolate Nirvana, Thai G...   \n",
       "2      Churros, Cannelloni, Minestrone Soup, Hot Choc...   \n",
       "3                                            Masala Dosa   \n",
       "4                                    Panipuri, Gol Gappe   \n",
       "...                                                  ...   \n",
       "51709                                                NaN   \n",
       "51711                               Biryani, Andhra Meal   \n",
       "51712                                                NaN   \n",
       "51715                       Cocktails, Pizza, Buttermilk   \n",
       "51716                                                NaN   \n",
       "\n",
       "                                          cuisines  \\\n",
       "0                   North Indian, Mughlai, Chinese   \n",
       "1                      Chinese, North Indian, Thai   \n",
       "2                           Cafe, Mexican, Italian   \n",
       "3                       South Indian, North Indian   \n",
       "4                         North Indian, Rajasthani   \n",
       "...                                            ...   \n",
       "51709                    North Indian, Continental   \n",
       "51711  Andhra, South Indian, Chinese, North Indian   \n",
       "51712                                  Continental   \n",
       "51715                                  Finger Food   \n",
       "51716       Finger Food, North Indian, Continental   \n",
       "\n",
       "       approx_cost(for two people)  \\\n",
       "0                              800   \n",
       "1                              800   \n",
       "2                              800   \n",
       "3                              300   \n",
       "4                              600   \n",
       "...                            ...   \n",
       "51709                          800   \n",
       "51711                          800   \n",
       "51712                         1500   \n",
       "51715                         2500   \n",
       "51716                         1500   \n",
       "\n",
       "                                            reviews_list listed_in(type)  \\\n",
       "0      [('Rated 4.0', 'RATED\\n  A beautiful place to ...          Buffet   \n",
       "1      [('Rated 4.0', 'RATED\\n  Had been here for din...          Buffet   \n",
       "2      [('Rated 3.0', \"RATED\\n  Ambience is not that ...          Buffet   \n",
       "3      [('Rated 4.0', \"RATED\\n  Great food and proper...          Buffet   \n",
       "4      [('Rated 4.0', 'RATED\\n  Very good restaurant ...          Buffet   \n",
       "...                                                  ...             ...   \n",
       "51709  [('Rated 4.0', 'RATED\\n  Ambience- Big and spa...   Pubs and bars   \n",
       "51711  [('Rated 4.0', 'RATED\\n  A fine place to chill...   Pubs and bars   \n",
       "51712  [('Rated 5.0', \"RATED\\n  Food and service are ...   Pubs and bars   \n",
       "51715  [('Rated 4.0', 'RATED\\n  Nice and friendly pla...   Pubs and bars   \n",
       "51716  [('Rated 5.0', 'RATED\\n  Great ambience , look...   Pubs and bars   \n",
       "\n",
       "      listed_in(city) price_range  \n",
       "0        Banashankari         $$$  \n",
       "1        Banashankari         $$$  \n",
       "2        Banashankari         $$$  \n",
       "3        Banashankari          $$  \n",
       "4        Banashankari         $$$  \n",
       "...               ...         ...  \n",
       "51709      Whitefield         $$$  \n",
       "51711      Whitefield         $$$  \n",
       "51712      Whitefield        $$$$  \n",
       "51715      Whitefield        $$$$  \n",
       "51716      Whitefield        $$$$  \n",
       "\n",
       "[41263 rows x 17 columns]"
      ]
     },
     "execution_count": 107,
     "metadata": {},
     "output_type": "execute_result"
    }
   ],
   "source": [
    "#Create a new column to discretize the price range into 4 buckets\n",
    "rest_data['price_range'] = 0\n",
    "rest_data.loc[rest_data['approx_cost(for two people)'] <= 250, 'price_range'] = '$'\n",
    "rest_data.loc[(rest_data['approx_cost(for two people)'] >= 250) & (rest_data['approx_cost(for two people)'] < 500), 'price_range'] = '$$'\n",
    "rest_data.loc[(rest_data['approx_cost(for two people)'] >= 500) & (rest_data['approx_cost(for two people)'] < 1000), 'price_range'] = '$$$'\n",
    "rest_data.loc[rest_data['approx_cost(for two people)'] >= 1000, 'price_range'] = '$$$$'\n",
    "rest_data"
   ]
  },
  {
   "cell_type": "code",
   "execution_count": null,
   "id": "8bc428b4",
   "metadata": {},
   "outputs": [],
   "source": []
  }
 ],
 "metadata": {
  "kernelspec": {
   "display_name": "base",
   "language": "python",
   "name": "python3"
  },
  "language_info": {
   "codemirror_mode": {
    "name": "ipython",
    "version": 3
   },
   "file_extension": ".py",
   "mimetype": "text/x-python",
   "name": "python",
   "nbconvert_exporter": "python",
   "pygments_lexer": "ipython3",
   "version": "3.9.12"
  },
  "vscode": {
   "interpreter": {
    "hash": "f3aa82e24f37c78e160276e972cc1339092793756a0db64f49737170cf2a5ccc"
   }
  }
 },
 "nbformat": 4,
 "nbformat_minor": 5
}
